{
 "cells": [
  {
   "cell_type": "code",
   "execution_count": 562,
   "metadata": {},
   "outputs": [],
   "source": [
    "import os\n",
    "from bs4 import BeautifulSoup\n",
    "import re\n",
    "import pandas as pd\n",
    "import numpy as np"
   ]
  },
  {
   "cell_type": "code",
   "execution_count": 563,
   "metadata": {},
   "outputs": [],
   "source": [
    "# Code to get the emails\n",
    "def findemails(f, page, all_emails):\n",
    "    for line in page: #.splitlines():\n",
    "        line = line.lower()\n",
    "        if \"obfuscate\" in line:\n",
    "            obf_line = list(re.findall('\\'[a-zA-Z0-9._-]+\\'', line))\n",
    "            if (len(obf_line) > 0): \n",
    "                obf_line = list(reversed([re.sub('\\'', '', l) for l in obf_line]))\n",
    "                obf_email = '@'.join(obf_line)\n",
    "                all_emails.append([f, \"e\", obf_email])\n",
    "        new_line = re.sub('[^a-zA-Z]at[^a-zA-Z]', '@', line)\n",
    "        new_line = re.sub('[^a-zA-Z]where[^a-zA-Z]', '@', new_line)\n",
    "        new_line = re.sub('[^a-zA-Z]dom[^a-zA-Z]', '.', new_line)\n",
    "        new_line = re.sub('[^a-zA-Z]dot[^a-zA-Z]', '.', new_line)\n",
    "        new_line = re.sub('\\(followed by (\\\"|&ldquo;)', '', new_line)\n",
    "        new_line = re.sub('[\\s]*@[\\s]*', '@', new_line)\n",
    "        new_line = re.sub('-', '', new_line)\n",
    "        new_line = re.sub('&#x40;', '@', new_line)\n",
    "        new_line = re.sub('server', ';', new_line)\n",
    "        emails = re.findall('[a-zA-Z0-9._-]+@[a-zA-Z0-9._-]+[\\.; ][a-zA-Z0-9_;-]+',new_line)\n",
    "        for e in list(set(emails)):\n",
    "            if e.endswith(\"com\") | e.endswith(\"edu\"):\n",
    "                e = re.sub(';', '.', e)\n",
    "                all_emails.append([f, \"e\", e])\n",
    "        "
   ]
  },
  {
   "cell_type": "code",
   "execution_count": 564,
   "metadata": {},
   "outputs": [],
   "source": [
    "# read in the files and process\n",
    "dir= \"dev/\"\n",
    "dev_emails = []\n",
    "for filename in os.listdir(dir):\n",
    "    with open(dir+filename, 'r') as html:\n",
    "        findemails(filename, html, dev_emails)"
   ]
  },
  {
   "cell_type": "code",
   "execution_count": 565,
   "metadata": {},
   "outputs": [
    {
     "name": "stdout",
     "output_type": "stream",
     "text": [
      "           0  1                              2\n",
      "0    ashishg  e           ashishg@stanford.edu\n",
      "1    ashishg  e              rozm@stanford.edu\n",
      "2     balaji  e            balaji@stanford.edu\n",
      "3   cheriton  e       cheriton@cs.stanford.edu\n",
      "4   cheriton  e            uma@cs.stanford.edu\n",
      "5       dabo  e           dabo@cs.stanford.edu\n",
      "6       dlwh  e              dlwh@stanford.edu\n",
      "7     engler  e            engler@stanford.edu\n",
      "8     engler  e             engler@lcs.mit.edu\n",
      "9     engler  e            engler@stanford.edu\n",
      "10  eroberts  e       eroberts@cs.stanford.edu\n",
      "11    fedkiw  e         fedkiw@cs.stanford.edu\n",
      "12     hager  e               hager@cs.jhu.edu\n",
      "13  hanrahan  e       hanrahan@cs.stanford.edu\n",
      "14       jks  e      jks@robotics.stanford.edu\n",
      "15  jurafsky  e          jurafsky@stanford.edu\n",
      "16   kosecka  e             kosecka@cs.gmu.edu\n",
      "17     kunle  e        kunle@ogun.stanford.edu\n",
      "18     kunle  e       darlene@csl.stanford.edu\n",
      "19       lam  e            lam@cs.stanford.edu\n",
      "20   latombe  e        latombe@cs.stanford.edu\n",
      "21   latombe  e        asandra@cs.stanford.edu\n",
      "22   latombe  e        liliana@cs.stanford.edu\n",
      "23     levoy  e      ada@graphics.stanford.edu\n",
      "24     levoy  e  melissa@graphics.stanford.edu\n",
      "25   manning  e        manning@cs.stanford.edu\n",
      "26   manning  e        dbarros@cs.stanford.edu\n",
      "27   manning  e        manning@cs.stanford.edu\n",
      "28      nass  e              nass@stanford.edu\n",
      "29      nass  e              nass@stanford.edu\n",
      "30      nick  e  nick.parlante@cs.stanford.edu\n"
     ]
    }
   ],
   "source": [
    "found_emails = pd.DataFrame(dev_emails)\n",
    "print(found_emails)"
   ]
  },
  {
   "cell_type": "code",
   "execution_count": 566,
   "metadata": {},
   "outputs": [
    {
     "name": "stdout",
     "output_type": "stream",
     "text": [
      "Empty DataFrame\n",
      "Columns: [0, 1, 2, _merge]\n",
      "Index: []\n"
     ]
    }
   ],
   "source": [
    "test_contacts = pd.read_csv('devGOLD', sep=\"\\t\", header=None)\n",
    "test_emails = test_contacts.loc[test_contacts[1]==\"e\"]\n",
    "\n",
    "# are any missing?\n",
    "df_all = test_emails.merge(found_emails, on=[0,1,2],how='outer', indicator=True)\n",
    "print(df_all.loc[df_all[\"_merge\"] != \"both\"])"
   ]
  },
  {
   "cell_type": "code",
   "execution_count": 567,
   "metadata": {},
   "outputs": [
    {
     "data": {
      "text/html": [
       "<div>\n",
       "<style scoped>\n",
       "    .dataframe tbody tr th:only-of-type {\n",
       "        vertical-align: middle;\n",
       "    }\n",
       "\n",
       "    .dataframe tbody tr th {\n",
       "        vertical-align: top;\n",
       "    }\n",
       "\n",
       "    .dataframe thead th {\n",
       "        text-align: right;\n",
       "    }\n",
       "</style>\n",
       "<table border=\"1\" class=\"dataframe\">\n",
       "  <thead>\n",
       "    <tr style=\"text-align: right;\">\n",
       "      <th></th>\n",
       "      <th>0</th>\n",
       "      <th>1</th>\n",
       "      <th>2</th>\n",
       "    </tr>\n",
       "  </thead>\n",
       "  <tbody>\n",
       "    <tr>\n",
       "      <th>0</th>\n",
       "      <td>ouster</td>\n",
       "      <td>e</td>\n",
       "      <td>ouster@cs.stanford.edu</td>\n",
       "    </tr>\n",
       "    <tr>\n",
       "      <th>1</th>\n",
       "      <td>ouster</td>\n",
       "      <td>e</td>\n",
       "      <td>teresa.lynn@stanford.edu</td>\n",
       "    </tr>\n",
       "  </tbody>\n",
       "</table>\n",
       "</div>"
      ],
      "text/plain": [
       "        0  1                         2\n",
       "0  ouster  e    ouster@cs.stanford.edu\n",
       "1  ouster  e  teresa.lynn@stanford.edu"
      ]
     },
     "execution_count": 567,
     "metadata": {},
     "output_type": "execute_result"
    }
   ],
   "source": [
    "# read in the files and process\n",
    "dir= \"test/\"\n",
    "test_emails = []\n",
    "for filename in os.listdir(dir):\n",
    "    with open(dir+filename, 'r') as html:\n",
    "        findemails(filename, html, test_emails)\n",
    "pd.DataFrame(test_emails)"
   ]
  }
 ],
 "metadata": {
  "kernelspec": {
   "display_name": "Python 3",
   "language": "python",
   "name": "python3"
  },
  "language_info": {
   "codemirror_mode": {
    "name": "ipython",
    "version": 3
   },
   "file_extension": ".py",
   "mimetype": "text/x-python",
   "name": "python",
   "nbconvert_exporter": "python",
   "pygments_lexer": "ipython3",
   "version": "3.5.2"
  }
 },
 "nbformat": 4,
 "nbformat_minor": 2
}
