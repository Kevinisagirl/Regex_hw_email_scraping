{
 "cells": [
  {
   "cell_type": "code",
   "execution_count": 220,
   "metadata": {},
   "outputs": [],
   "source": [
    "import os\n",
    "import re\n",
    "import pandas as pd\n",
    "import numpy as np"
   ]
  },
  {
   "cell_type": "code",
   "execution_count": 221,
   "metadata": {},
   "outputs": [],
   "source": [
    "# Code to get the emails\n",
    "def findemails(f, page, all_emails):\n",
    "    for line in page:\n",
    "        line = line.lower()\n",
    "        if \"obfuscate\" in line:\n",
    "            obf_line = list(re.findall('\\'[a-zA-Z0-9._-]+\\'', line))\n",
    "            if (len(obf_line) > 0): \n",
    "                obf_line = list(reversed([re.sub('\\'', '', l) for l in obf_line]))\n",
    "                obf_email = '@'.join(obf_line)\n",
    "                all_emails.append([f, \"e\", obf_email])\n",
    "        new_line = re.sub('[^a-zA-Z]at[^a-zA-Z]', '@', line)\n",
    "        new_line = re.sub('[^a-zA-Z]where[^a-zA-Z]', '@', new_line)\n",
    "        new_line = re.sub('[^a-zA-Z]dom[^a-zA-Z]', '.', new_line)\n",
    "        new_line = re.sub('[^a-zA-Z]dot[^a-zA-Z]', '.', new_line)\n",
    "        new_line = re.sub('\\(followed by (\\\"|&ldquo;)', '', new_line)\n",
    "        new_line = re.sub('[\\s]*@[\\s]*', '@', new_line)\n",
    "        new_line = re.sub('-', '', new_line)\n",
    "        new_line = re.sub('&#x40;', '@', new_line)\n",
    "        new_line = re.sub('server', ';', new_line)\n",
    "        emails = re.findall('[a-zA-Z0-9._-]+@[a-zA-Z0-9._-]+[\\.; ][a-zA-Z0-9_;-]+',new_line)\n",
    "        for e in list(set(emails)):\n",
    "            if e.endswith(\"com\") | e.endswith(\"edu\"):\n",
    "                e = re.sub(';', '.', e)\n",
    "                all_emails.append([f, \"e\", e])\n",
    "        "
   ]
  },
  {
   "cell_type": "code",
   "execution_count": 222,
   "metadata": {},
   "outputs": [],
   "source": [
    "def findphones(f, page, all_phones):\n",
    "    for line in page:\n",
    "        phones = re.findall('[0-9]{3}[^0-9]{0,6}[0-9]{3}[^0-9\\(,)]{0,6}[0-9]{4}', line) #'\n",
    "        for p in list(set(phones)):\n",
    "            p = \"\".join([s for s in re.split(r'[\\D]',p) if s.isdigit()])\n",
    "            p = p[0:3] + \"-\" + p[3:6] + \"-\" + p[6:]\n",
    "            all_phones.append([f, \"p\", p])"
   ]
  },
  {
   "cell_type": "code",
   "execution_count": 223,
   "metadata": {},
   "outputs": [],
   "source": [
    "# read in the files and process\n",
    "dir= \"dev/\"\n",
    "dev_emails = []\n",
    "dev_phones = []\n",
    "for filename in os.listdir(dir):\n",
    "    with open(dir+filename, 'r') as html:\n",
    "        html = html.read().split('\\n')\n",
    "        findemails(filename, html, dev_emails)\n",
    "        findphones(filename, html, dev_phones)"
   ]
  },
  {
   "cell_type": "code",
   "execution_count": 224,
   "metadata": {},
   "outputs": [
    {
     "name": "stdout",
     "output_type": "stream",
     "text": [
      "           0  1                              2\n",
      "0    ashishg  e           ashishg@stanford.edu\n",
      "1    ashishg  e              rozm@stanford.edu\n",
      "2     balaji  e            balaji@stanford.edu\n",
      "3   cheriton  e       cheriton@cs.stanford.edu\n",
      "4   cheriton  e            uma@cs.stanford.edu\n",
      "5       dabo  e           dabo@cs.stanford.edu\n",
      "6       dlwh  e              dlwh@stanford.edu\n",
      "7     engler  e            engler@stanford.edu\n",
      "8     engler  e             engler@lcs.mit.edu\n",
      "9     engler  e            engler@stanford.edu\n",
      "10  eroberts  e       eroberts@cs.stanford.edu\n",
      "11    fedkiw  e         fedkiw@cs.stanford.edu\n",
      "12     hager  e               hager@cs.jhu.edu\n",
      "13  hanrahan  e       hanrahan@cs.stanford.edu\n",
      "14       jks  e      jks@robotics.stanford.edu\n",
      "15  jurafsky  e          jurafsky@stanford.edu\n",
      "16   kosecka  e             kosecka@cs.gmu.edu\n",
      "17     kunle  e        kunle@ogun.stanford.edu\n",
      "18     kunle  e       darlene@csl.stanford.edu\n",
      "19       lam  e            lam@cs.stanford.edu\n",
      "20   latombe  e        latombe@cs.stanford.edu\n",
      "21   latombe  e        asandra@cs.stanford.edu\n",
      "22   latombe  e        liliana@cs.stanford.edu\n",
      "23     levoy  e      ada@graphics.stanford.edu\n",
      "24     levoy  e  melissa@graphics.stanford.edu\n",
      "25   manning  e        manning@cs.stanford.edu\n",
      "26   manning  e        dbarros@cs.stanford.edu\n",
      "27   manning  e        manning@cs.stanford.edu\n",
      "28      nass  e              nass@stanford.edu\n",
      "29      nass  e              nass@stanford.edu\n",
      "30      nick  e  nick.parlante@cs.stanford.edu\n"
     ]
    }
   ],
   "source": [
    "found_emails = pd.DataFrame(dev_emails)\n",
    "print(found_emails)"
   ]
  },
  {
   "cell_type": "code",
   "execution_count": 225,
   "metadata": {},
   "outputs": [
    {
     "name": "stdout",
     "output_type": "stream",
     "text": [
      "           0  1             2\n",
      "0    ashishg  p  650-814-1478\n",
      "1    ashishg  p  650-723-1614\n",
      "2    ashishg  p  650-723-4173\n",
      "3     bgirod  p  177-572-9915\n",
      "4     bgirod  p  134-217-6593\n",
      "5     bgirod  p  177-572-9915\n",
      "6     bgirod  p  134-217-6593\n",
      "7     bgirod  p  161-904-3898\n",
      "8     bgirod  p  194-257-0626\n",
      "9     bgirod  p  650-724-6354\n",
      "10    bgirod  p  650-723-4539\n",
      "11    bgirod  p  650-724-3648\n",
      "12  cheriton  p  650-723-1131\n",
      "13  cheriton  p  650-725-3726\n",
      "14      dabo  p  650-725-3897\n",
      "15      dabo  p  650-725-4671\n",
      "16  eroberts  p  650-723-3642\n",
      "17  eroberts  p  650-723-6092\n",
      "18     hager  p  410-516-5521\n",
      "19     hager  p  410-516-5553\n",
      "20     hager  p  410-516-8000\n",
      "21  hanrahan  p  650-723-8530\n",
      "22  hanrahan  p  650-723-0033\n",
      "23  horowitz  p  650-725-3707\n",
      "24  horowitz  p  650-725-6949\n",
      "25  jurafsky  p  650-723-5666\n",
      "26   kosecka  p  703-993-1876\n",
      "27   kosecka  p  703-993-1710\n",
      "28     kunle  p  650-725-3713\n",
      "29     kunle  p  650-725-6949\n",
      "..       ... ..           ...\n",
      "36   latombe  p  110-730-4683\n",
      "37   latombe  p  082-689-1073\n",
      "38   latombe  p  870-145-1791\n",
      "39   latombe  p  101-812-1023\n",
      "40   latombe  p  698-693-6769\n",
      "41   latombe  p  689-676-9869\n",
      "42   latombe  p  830-552-1902\n",
      "43   latombe  p  794-676-9869\n",
      "44   latombe  p  650-723-0350\n",
      "45   latombe  p  650-725-1449\n",
      "46   latombe  p  650-721-6625\n",
      "47   latombe  p  650-723-4137\n",
      "48     levoy  p  650-725-4089\n",
      "49     levoy  p  650-723-0033\n",
      "50     levoy  p  650-725-3724\n",
      "51     levoy  p  650-724-6865\n",
      "52   manning  p  650-723-7683\n",
      "53   manning  p  650-725-1449\n",
      "54   manning  p  650-725-3358\n",
      "55   manning  p  157-586-0368\n",
      "56   manning  p  289-289-2007\n",
      "57      nass  p  650-723-5499\n",
      "58      nass  p  650-725-2472\n",
      "59      nass  p  157-586-0538\n",
      "60      nass  p  111-099-5710\n",
      "61      nass  p  104-337-5742\n",
      "62      nass  p  026-214-0926\n",
      "63      nass  p  111-618-2714\n",
      "64      nass  p  103-311-4910\n",
      "65      nick  p  650-725-4727\n",
      "\n",
      "[66 rows x 3 columns]\n"
     ]
    }
   ],
   "source": [
    "found_phones = pd.DataFrame(dev_phones)\n",
    "print(found_phones)"
   ]
  },
  {
   "cell_type": "code",
   "execution_count": 226,
   "metadata": {},
   "outputs": [
    {
     "name": "stdout",
     "output_type": "stream",
     "text": [
      "Empty DataFrame\n",
      "Columns: [0, 1, 2, _merge]\n",
      "Index: []\n"
     ]
    }
   ],
   "source": [
    "test_contacts = pd.read_csv('devGOLD', sep=\"\\t\", header=None)\n",
    "test_emails = test_contacts.loc[test_contacts[1]==\"e\"]\n",
    "\n",
    "# are any missing?\n",
    "df_all = test_emails.merge(found_emails, on=[0,1,2],how='outer', indicator=True)\n",
    "print(df_all.loc[df_all[\"_merge\"] != \"both\"])"
   ]
  },
  {
   "cell_type": "code",
   "execution_count": 227,
   "metadata": {},
   "outputs": [
    {
     "name": "stdout",
     "output_type": "stream",
     "text": [
      "          0  1             2      _merge\n",
      "42   bgirod  p  177-572-9915  right_only\n",
      "43   bgirod  p  177-572-9915  right_only\n",
      "44   bgirod  p  134-217-6593  right_only\n",
      "45   bgirod  p  134-217-6593  right_only\n",
      "46   bgirod  p  161-904-3898  right_only\n",
      "47   bgirod  p  194-257-0626  right_only\n",
      "48  latombe  p  870-145-1791  right_only\n",
      "49  latombe  p  870-145-1791  right_only\n",
      "50  latombe  p  161-061-1985  right_only\n",
      "51  latombe  p  110-730-4683  right_only\n",
      "52  latombe  p  082-689-1073  right_only\n",
      "53  latombe  p  101-812-1023  right_only\n",
      "54  latombe  p  698-693-6769  right_only\n",
      "55  latombe  p  689-676-9869  right_only\n",
      "56  latombe  p  830-552-1902  right_only\n",
      "57  latombe  p  794-676-9869  right_only\n",
      "58  manning  p  157-586-0368  right_only\n",
      "59  manning  p  289-289-2007  right_only\n",
      "60     nass  p  157-586-0538  right_only\n",
      "61     nass  p  111-099-5710  right_only\n",
      "62     nass  p  104-337-5742  right_only\n",
      "63     nass  p  026-214-0926  right_only\n",
      "64     nass  p  111-618-2714  right_only\n",
      "65     nass  p  103-311-4910  right_only\n"
     ]
    }
   ],
   "source": [
    "#check the test phones\n",
    "test_phones = test_contacts.loc[test_contacts[1]==\"p\"]\n",
    "\n",
    "# are any missing?\n",
    "df_all_phones = test_phones.merge(found_phones, on=[0,1,2],how='outer', indicator=True)\n",
    "print(df_all_phones.loc[df_all_phones[\"_merge\"] != \"both\"])"
   ]
  },
  {
   "cell_type": "markdown",
   "metadata": {},
   "source": [
    "So I've gotten a lot of potentially false positives on the phone numbers. I could be more strict and do perfect with this dev and test set, but I feel in the real world - some phone numbers would be missed. I would like to pose that for the purposes of scraping numbers, one might prefer to have more that aren't real numbers, than missing real numbers. "
   ]
  },
  {
   "cell_type": "code",
   "execution_count": 228,
   "metadata": {},
   "outputs": [
    {
     "data": {
      "text/html": [
       "<div>\n",
       "<style scoped>\n",
       "    .dataframe tbody tr th:only-of-type {\n",
       "        vertical-align: middle;\n",
       "    }\n",
       "\n",
       "    .dataframe tbody tr th {\n",
       "        vertical-align: top;\n",
       "    }\n",
       "\n",
       "    .dataframe thead th {\n",
       "        text-align: right;\n",
       "    }\n",
       "</style>\n",
       "<table border=\"1\" class=\"dataframe\">\n",
       "  <thead>\n",
       "    <tr style=\"text-align: right;\">\n",
       "      <th></th>\n",
       "      <th>0</th>\n",
       "      <th>1</th>\n",
       "      <th>2</th>\n",
       "    </tr>\n",
       "  </thead>\n",
       "  <tbody>\n",
       "    <tr>\n",
       "      <th>0</th>\n",
       "      <td>ouster</td>\n",
       "      <td>e</td>\n",
       "      <td>ouster@cs.stanford.edu</td>\n",
       "    </tr>\n",
       "    <tr>\n",
       "      <th>1</th>\n",
       "      <td>ouster</td>\n",
       "      <td>e</td>\n",
       "      <td>teresa.lynn@stanford.edu</td>\n",
       "    </tr>\n",
       "  </tbody>\n",
       "</table>\n",
       "</div>"
      ],
      "text/plain": [
       "        0  1                         2\n",
       "0  ouster  e    ouster@cs.stanford.edu\n",
       "1  ouster  e  teresa.lynn@stanford.edu"
      ]
     },
     "execution_count": 228,
     "metadata": {},
     "output_type": "execute_result"
    }
   ],
   "source": [
    "# read in the files and process\n",
    "dir= \"test/\"\n",
    "test_emails = []\n",
    "test_phones = []\n",
    "for filename in os.listdir(dir):\n",
    "    with open(dir+filename, 'r') as html:\n",
    "        html = html.read().split('\\n')\n",
    "        findemails(filename, html, test_emails)\n",
    "        findphones(filename, html, test_phones)\n",
    "pd.DataFrame(test_emails)"
   ]
  },
  {
   "cell_type": "markdown",
   "metadata": {},
   "source": [
    "I am missing one email from the test set. \"pal at cs stanford edu\". To fix this I might add a rule that looks for \"@\" (after my rule that \"at\" becomes \"@\") and \"edu\" or \"com\" in the same line and process from there."
   ]
  },
  {
   "cell_type": "code",
   "execution_count": 229,
   "metadata": {},
   "outputs": [
    {
     "data": {
      "text/html": [
       "<div>\n",
       "<style scoped>\n",
       "    .dataframe tbody tr th:only-of-type {\n",
       "        vertical-align: middle;\n",
       "    }\n",
       "\n",
       "    .dataframe tbody tr th {\n",
       "        vertical-align: top;\n",
       "    }\n",
       "\n",
       "    .dataframe thead th {\n",
       "        text-align: right;\n",
       "    }\n",
       "</style>\n",
       "<table border=\"1\" class=\"dataframe\">\n",
       "  <thead>\n",
       "    <tr style=\"text-align: right;\">\n",
       "      <th></th>\n",
       "      <th>0</th>\n",
       "      <th>1</th>\n",
       "      <th>2</th>\n",
       "    </tr>\n",
       "  </thead>\n",
       "  <tbody>\n",
       "    <tr>\n",
       "      <th>0</th>\n",
       "      <td>ok</td>\n",
       "      <td>p</td>\n",
       "      <td>650-723-9753</td>\n",
       "    </tr>\n",
       "    <tr>\n",
       "      <th>1</th>\n",
       "      <td>ok</td>\n",
       "      <td>p</td>\n",
       "      <td>650-725-1449</td>\n",
       "    </tr>\n",
       "    <tr>\n",
       "      <th>2</th>\n",
       "      <td>pal</td>\n",
       "      <td>p</td>\n",
       "      <td>650-725-9046</td>\n",
       "    </tr>\n",
       "    <tr>\n",
       "      <th>3</th>\n",
       "      <td>pal</td>\n",
       "      <td>p</td>\n",
       "      <td>122-963-8381</td>\n",
       "    </tr>\n",
       "    <tr>\n",
       "      <th>4</th>\n",
       "      <td>pal</td>\n",
       "      <td>p</td>\n",
       "      <td>052-189-6061</td>\n",
       "    </tr>\n",
       "  </tbody>\n",
       "</table>\n",
       "</div>"
      ],
      "text/plain": [
       "     0  1             2\n",
       "0   ok  p  650-723-9753\n",
       "1   ok  p  650-725-1449\n",
       "2  pal  p  650-725-9046\n",
       "3  pal  p  122-963-8381\n",
       "4  pal  p  052-189-6061"
      ]
     },
     "execution_count": 229,
     "metadata": {},
     "output_type": "execute_result"
    }
   ],
   "source": [
    "pd.DataFrame(test_phones)"
   ]
  }
 ],
 "metadata": {
  "kernelspec": {
   "display_name": "Python 3",
   "language": "python",
   "name": "python3"
  },
  "language_info": {
   "codemirror_mode": {
    "name": "ipython",
    "version": 3
   },
   "file_extension": ".py",
   "mimetype": "text/x-python",
   "name": "python",
   "nbconvert_exporter": "python",
   "pygments_lexer": "ipython3",
   "version": "3.6.5"
  }
 },
 "nbformat": 4,
 "nbformat_minor": 2
}
